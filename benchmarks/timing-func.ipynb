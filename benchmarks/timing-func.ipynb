{
 "cells": [
  {
   "cell_type": "code",
   "execution_count": 1,
   "metadata": {},
   "outputs": [],
   "source": [
    "# Using test environment unless noted otherwise\n",
    "\n",
    "import sys\n",
    "sys.path.append('..') \n",
    "\n",
    "import numpy as np\n",
    "\n",
    "from plaingaussian.normal import N\n",
    "from plaingaussian.func import logp, dlogp, d2logp, fisher, cholesky_inv\n",
    "from reffunc import logp as logp_\n",
    "from reffunc import dlogp_eigh as dlogp_\n",
    "from reffunc import d2logp as d2logp_\n",
    "from reffunc import fisher as fisher_"
   ]
  },
  {
   "cell_type": "markdown",
   "metadata": {},
   "source": [
    "# Matrix inversion"
   ]
  },
  {
   "cell_type": "code",
   "execution_count": 13,
   "metadata": {},
   "outputs": [
    {
     "name": "stdout",
     "output_type": "stream",
     "text": [
      "6.112573877326881e-11\n",
      "4.3283250967607065e-11\n",
      "\n",
      "778 µs ± 88.4 µs per loop (mean ± std. dev. of 7 runs, 100 loops each)\n",
      "613 µs ± 38.1 µs per loop (mean ± std. dev. of 7 runs, 1000 loops each)\n"
     ]
    }
   ],
   "source": [
    "sz = 200\n",
    "\n",
    "m = np.random.rand(sz, sz)\n",
    "msq = m @ m.T\n",
    "\n",
    "print(np.abs(np.linalg.inv(msq) @ msq - np.eye(sz)).max())\n",
    "print(np.abs(cholesky_inv(msq) @ msq - np.eye(sz)).max())\n",
    "print(\"\")\n",
    "\n",
    "%timeit np.linalg.inv(msq)\n",
    "%timeit cholesky_inv(msq)"
   ]
  },
  {
   "cell_type": "markdown",
   "metadata": {},
   "source": [
    "# logp"
   ]
  },
  {
   "cell_type": "code",
   "execution_count": 2,
   "metadata": {},
   "outputs": [
    {
     "name": "stdout",
     "output_type": "stream",
     "text": [
      "--- pure time ---\n",
      "275 µs ± 33 µs per loop (mean ± std. dev. of 7 runs, 1000 loops each)\n",
      "297 µs ± 78.7 µs per loop (mean ± std. dev. of 7 runs, 1000 loops each)\n",
      "--- wall-clock time ---\n",
      "465 µs ± 41.4 µs per loop (mean ± std. dev. of 7 runs, 1000 loops each)\n",
      "500 µs ± 47 µs per loop (mean ± std. dev. of 7 runs, 1000 loops each)\n",
      "480 µs ± 51.6 µs per loop (mean ± std. dev. of 7 runs, 1000 loops each)\n"
     ]
    }
   ],
   "source": [
    "sz = 200\n",
    "\n",
    "m = np.random.rand(sz, sz)\n",
    "msq = m @ m.T\n",
    "\n",
    "v = np.random.rand(sz)\n",
    "v1 = np.random.rand(sz)\n",
    "\n",
    "xi = N(v1, msq)\n",
    "\n",
    "print(\"--- pure time ---\")\n",
    "%timeit logp(v, v1, msq)\n",
    "%timeit logp_(v, v1, msq)\n",
    "print(\"--- wall-clock time ---\")\n",
    "%timeit xi.logp(v)\n",
    "%timeit logp(v, v1, m @ m.T)\n",
    "%timeit logp_(v, v1, m @ m.T)"
   ]
  },
  {
   "cell_type": "code",
   "execution_count": 3,
   "metadata": {},
   "outputs": [
    {
     "name": "stdout",
     "output_type": "stream",
     "text": [
      "--- pure time ---\n",
      "14.4 ms ± 3.18 ms per loop (mean ± std. dev. of 7 runs, 10 loops each)\n",
      "14.6 ms ± 1.42 ms per loop (mean ± std. dev. of 7 runs, 100 loops each)\n",
      "--- wall-clock time ---\n",
      "34.7 ms ± 2.46 ms per loop (mean ± std. dev. of 7 runs, 10 loops each)\n",
      "34.8 ms ± 2.87 ms per loop (mean ± std. dev. of 7 runs, 10 loops each)\n",
      "34.8 ms ± 2.32 ms per loop (mean ± std. dev. of 7 runs, 10 loops each)\n"
     ]
    }
   ],
   "source": [
    "sz = 1000\n",
    "\n",
    "m = np.random.rand(sz, sz)\n",
    "msq = m @ m.T\n",
    "\n",
    "v = np.random.rand(sz)\n",
    "v1 = np.random.rand(sz)\n",
    "\n",
    "xi = N(v1, msq)\n",
    "\n",
    "print(\"--- pure time ---\")\n",
    "%timeit logp(v, v1, msq)\n",
    "%timeit logp_(v, v1, msq)\n",
    "print(\"--- wall-clock time ---\")\n",
    "%timeit xi.logp(v)\n",
    "%timeit logp(v, v1, m @ m.T)\n",
    "%timeit logp_(v, v1, m @ m.T)"
   ]
  },
  {
   "cell_type": "code",
   "execution_count": 4,
   "metadata": {},
   "outputs": [
    {
     "name": "stdout",
     "output_type": "stream",
     "text": [
      "460 µs ± 33.7 µs per loop (mean ± std. dev. of 7 runs, 1000 loops each)\n",
      "618 µs ± 102 µs per loop (mean ± std. dev. of 7 runs, 1000 loops each)\n",
      "735 µs ± 35.3 µs per loop (mean ± std. dev. of 7 runs, 1000 loops each)\n",
      "3.33 ms ± 445 µs per loop (mean ± std. dev. of 7 runs, 100 loops each)\n"
     ]
    }
   ],
   "source": [
    "# Batch operation\n",
    "\n",
    "sz = 200\n",
    "\n",
    "m = np.random.rand(sz, sz)\n",
    "msq = m @ m.T\n",
    "v1 = np.random.rand(sz)\n",
    "\n",
    "xi = N(v1, msq)\n",
    "\n",
    "yy = xi.sample(400)\n",
    "\n",
    "%timeit xi.logp(yy[0])\n",
    "%timeit xi.logp(yy[:10])\n",
    "%timeit xi.logp(yy[:100])\n",
    "%timeit xi.logp(yy)"
   ]
  },
  {
   "cell_type": "markdown",
   "metadata": {},
   "source": [
    "# dlogp"
   ]
  },
  {
   "cell_type": "code",
   "execution_count": 24,
   "metadata": {},
   "outputs": [
    {
     "name": "stdout",
     "output_type": "stream",
     "text": [
      "888 µs ± 84.3 µs per loop (mean ± std. dev. of 7 runs, 1000 loops each)\n",
      "7.39 ms ± 390 µs per loop (mean ± std. dev. of 7 runs, 100 loops each)\n"
     ]
    }
   ],
   "source": [
    "sz = 200\n",
    "npar = 4\n",
    "\n",
    "m = np.random.rand(sz, sz)\n",
    "msq = m @ m.T\n",
    "\n",
    "mat2 = np.random.rand(npar, sz, sz)\n",
    "msq2 = np.einsum('ijk, ilk -> ijl', mat2, mat2)\n",
    "\n",
    "v = np.random.rand(sz)\n",
    "v1 = np.random.rand(sz)\n",
    "v2 = np.random.rand(npar, sz)\n",
    "\n",
    "%timeit dlogp(v, v1, msq, v2, msq2)\n",
    "%timeit dlogp_(v, v1, msq, v2, msq2)"
   ]
  },
  {
   "cell_type": "code",
   "execution_count": 25,
   "metadata": {},
   "outputs": [
    {
     "name": "stdout",
     "output_type": "stream",
     "text": [
      "6.69 ms ± 299 µs per loop (mean ± std. dev. of 7 runs, 100 loops each)\n",
      "26.6 ms ± 2.3 ms per loop (mean ± std. dev. of 7 runs, 10 loops each)\n"
     ]
    }
   ],
   "source": [
    "# Single large matrix\n",
    "sz = 400\n",
    "npar = 1\n",
    "\n",
    "m = np.random.rand(sz, sz)\n",
    "msq = m @ m.T\n",
    "\n",
    "mat2 = np.random.rand(npar, sz, sz)\n",
    "msq2 = np.einsum('ijk, ilk -> ijl', mat2, mat2)\n",
    "\n",
    "v = np.random.rand(sz)\n",
    "v1 = np.random.rand(sz)\n",
    "v2 = np.random.rand(npar, sz)\n",
    "\n",
    "%timeit dlogp(v, v1, msq, v2, msq2)\n",
    "%timeit dlogp_(v, v1, msq, v2, msq2)"
   ]
  },
  {
   "cell_type": "code",
   "execution_count": 26,
   "metadata": {},
   "outputs": [
    {
     "name": "stdout",
     "output_type": "stream",
     "text": [
      "1.43 ms ± 95.9 µs per loop (mean ± std. dev. of 7 runs, 1000 loops each)\n",
      "11.1 ms ± 1.03 ms per loop (mean ± std. dev. of 7 runs, 100 loops each)\n"
     ]
    }
   ],
   "source": [
    "sz = 200\n",
    "npar = 10\n",
    "\n",
    "m = np.random.rand(sz, sz)\n",
    "msq = m @ m.T\n",
    "\n",
    "mat2 = np.random.rand(npar, sz, sz)\n",
    "msq2 = np.einsum('ijk, ilk -> ijl', mat2, mat2)\n",
    "\n",
    "v = np.random.rand(sz)\n",
    "v1 = np.random.rand(sz)\n",
    "v2 = np.random.rand(npar, sz)\n",
    "\n",
    "%timeit dlogp(v, v1, msq, v2, msq2)\n",
    "%timeit dlogp_(v, v1, msq, v2, msq2)"
   ]
  },
  {
   "cell_type": "code",
   "execution_count": 27,
   "metadata": {},
   "outputs": [
    {
     "name": "stdout",
     "output_type": "stream",
     "text": [
      "60.3 µs ± 2.66 µs per loop (mean ± std. dev. of 7 runs, 10000 loops each)\n",
      "155 µs ± 4.54 µs per loop (mean ± std. dev. of 7 runs, 10000 loops each)\n"
     ]
    }
   ],
   "source": [
    "sz = 20\n",
    "npar = 10\n",
    "\n",
    "m = np.random.rand(sz, sz)\n",
    "msq = m @ m.T\n",
    "\n",
    "mat2 = np.random.rand(npar, sz, sz)\n",
    "msq2 = np.einsum('ijk, ilk -> ijl', mat2, mat2)\n",
    "\n",
    "v = np.random.rand(sz)\n",
    "v1 = np.random.rand(sz)\n",
    "v2 = np.random.rand(npar, sz)\n",
    "\n",
    "%timeit dlogp(v, v1, msq, v2, msq2)\n",
    "%timeit dlogp_(v, v1, msq, v2, msq2)"
   ]
  },
  {
   "cell_type": "markdown",
   "metadata": {},
   "source": [
    "# d2logp"
   ]
  },
  {
   "cell_type": "code",
   "execution_count": 2,
   "metadata": {},
   "outputs": [
    {
     "name": "stdout",
     "output_type": "stream",
     "text": [
      "5.61 ms ± 339 µs per loop (mean ± std. dev. of 7 runs, 100 loops each)\n",
      "8.77 ms ± 759 µs per loop (mean ± std. dev. of 7 runs, 100 loops each)\n"
     ]
    }
   ],
   "source": [
    "sz = 200\n",
    "npar = 4\n",
    "\n",
    "m = np.random.rand(sz, sz) \n",
    "msq = m @ m.T\n",
    "\n",
    "mat2 = np.random.rand(npar, sz, sz) \n",
    "msq2 = np.einsum('ijk, ilk -> ijl', mat2, mat2)\n",
    "\n",
    "mat3 = np.random.rand(npar, npar, sz, sz) \n",
    "msq3 = np.einsum('ijkl, ijrl -> ijkr', mat3, mat3)\n",
    "msq3 = msq3.transpose(1, 0, 2, 3) + msq3\n",
    "\n",
    "v = np.random.rand(sz)\n",
    "v1 = np.random.rand(sz)\n",
    "v2 = np.random.rand(npar, sz)\n",
    "v3 = np.random.rand(npar, npar, sz)\n",
    "v3 = v3.transpose(1, 0, 2) + v3\n",
    "\n",
    "%timeit d2logp(v, v1, msq, v2, msq2, v3, msq3)\n",
    "%timeit d2logp_(v, v1, msq, v2, msq2, v3, msq3)"
   ]
  },
  {
   "cell_type": "code",
   "execution_count": 3,
   "metadata": {},
   "outputs": [
    {
     "name": "stdout",
     "output_type": "stream",
     "text": [
      "15.2 ms ± 1.66 ms per loop (mean ± std. dev. of 7 runs, 10 loops each)\n",
      "32.5 ms ± 3.29 ms per loop (mean ± std. dev. of 7 runs, 10 loops each)\n"
     ]
    }
   ],
   "source": [
    "sz = 200\n",
    "npar = 10\n",
    "\n",
    "m = np.random.rand(sz, sz) \n",
    "msq = m @ m.T\n",
    "\n",
    "mat2 = np.random.rand(npar, sz, sz) \n",
    "msq2 = np.einsum('ijk, ilk -> ijl', mat2, mat2)\n",
    "\n",
    "mat3 = np.random.rand(npar, npar, sz, sz) \n",
    "msq3 = np.einsum('ijkl, ijrl -> ijkr', mat3, mat3)\n",
    "msq3 = msq3.transpose(1, 0, 2, 3) + msq3\n",
    "\n",
    "v = np.random.rand(sz)\n",
    "v1 = np.random.rand(sz)\n",
    "v2 = np.random.rand(npar, sz)\n",
    "v3 = np.random.rand(npar, npar, sz)\n",
    "v3 = v3.transpose(1, 0, 2) + v3\n",
    "\n",
    "%timeit d2logp(v, v1, msq, v2, msq2, v3, msq3)\n",
    "%timeit d2logp_(v, v1, msq, v2, msq2, v3, msq3)"
   ]
  },
  {
   "cell_type": "code",
   "execution_count": 29,
   "metadata": {},
   "outputs": [
    {
     "name": "stdout",
     "output_type": "stream",
     "text": [
      "20.1 ms ± 1.09 ms per loop (mean ± std. dev. of 7 runs, 100 loops each)\n",
      "32.6 ms ± 2.34 ms per loop (mean ± std. dev. of 7 runs, 10 loops each)\n"
     ]
    }
   ],
   "source": [
    "sz = 200\n",
    "npar = 10\n",
    "\n",
    "m = np.random.rand(sz, sz) \n",
    "msq = m @ m.T\n",
    "\n",
    "mat2 = np.random.rand(npar, sz, sz) \n",
    "msq2 = np.einsum('ijk, ilk -> ijl', mat2, mat2)\n",
    "\n",
    "mat3 = np.random.rand(npar, npar, sz, sz) \n",
    "msq3 = np.einsum('ijkl, ijrl -> ijkr', mat3, mat3)\n",
    "msq3 = msq3.transpose(1, 0, 2, 3) + msq3\n",
    "\n",
    "v = np.random.rand(sz)\n",
    "v1 = np.random.rand(sz)\n",
    "v2 = np.random.rand(npar, sz)\n",
    "v3 = np.random.rand(npar, npar, sz)\n",
    "v3 = v3.transpose(1, 0, 2) + v3\n",
    "\n",
    "%timeit d2logp(v, v1, msq, v2, msq2, v3, msq3)\n",
    "%timeit d2logp_(v, v1, msq, v2, msq2, v3, msq3)"
   ]
  },
  {
   "cell_type": "code",
   "execution_count": 4,
   "metadata": {},
   "outputs": [
    {
     "name": "stdout",
     "output_type": "stream",
     "text": [
      "13 ms ± 800 µs per loop (mean ± std. dev. of 7 runs, 100 loops each)\n",
      "16.6 ms ± 415 µs per loop (mean ± std. dev. of 7 runs, 100 loops each)\n"
     ]
    }
   ],
   "source": [
    "sz = 400\n",
    "npar = 1\n",
    "\n",
    "m = np.random.rand(sz, sz) \n",
    "msq = m @ m.T\n",
    "\n",
    "mat2 = np.random.rand(npar, sz, sz) \n",
    "msq2 = np.einsum('ijk, ilk -> ijl', mat2, mat2)\n",
    "\n",
    "mat3 = np.random.rand(npar, npar, sz, sz) \n",
    "msq3 = np.einsum('ijkl, ijrl -> ijkr', mat3, mat3)\n",
    "msq3 = msq3.transpose(1, 0, 2, 3) + msq3\n",
    "\n",
    "v = np.random.rand(sz)\n",
    "v1 = np.random.rand(sz)\n",
    "v2 = np.random.rand(npar, sz)\n",
    "v3 = np.random.rand(npar, npar, sz)\n",
    "v3 = v3.transpose(1, 0, 2) + v3\n",
    "\n",
    "%timeit d2logp(v, v1, msq, v2, msq2, v3, msq3)\n",
    "%timeit d2logp_(v, v1, msq, v2, msq2, v3, msq3)"
   ]
  },
  {
   "cell_type": "markdown",
   "metadata": {},
   "source": [
    "# Fisher information"
   ]
  },
  {
   "cell_type": "code",
   "execution_count": 8,
   "metadata": {},
   "outputs": [
    {
     "name": "stdout",
     "output_type": "stream",
     "text": [
      "7.61 ms ± 301 µs per loop (mean ± std. dev. of 7 runs, 100 loops each)\n",
      "16.8 ms ± 1.53 ms per loop (mean ± std. dev. of 7 runs, 10 loops each)\n"
     ]
    }
   ],
   "source": [
    "sz = 200\n",
    "npar = 10\n",
    "\n",
    "m = np.random.rand(sz, sz)\n",
    "msq = m @ m.T\n",
    "\n",
    "mat2 = np.random.rand(npar, sz, sz)\n",
    "msq2 = np.einsum('ijk, ilk -> ijl', mat2, mat2)\n",
    "\n",
    "v = np.random.rand(sz)\n",
    "v1 = np.random.rand(sz)\n",
    "v2 = np.random.rand(npar, sz)\n",
    "\n",
    "%timeit fisher(msq, v2, msq2)\n",
    "%timeit fisher_(msq, v2, msq2)"
   ]
  },
  {
   "cell_type": "code",
   "execution_count": 10,
   "metadata": {},
   "outputs": [
    {
     "name": "stdout",
     "output_type": "stream",
     "text": [
      "1.08 ms ± 55 µs per loop (mean ± std. dev. of 7 runs, 1000 loops each)\n",
      "1.21 ms ± 85.6 µs per loop (mean ± std. dev. of 7 runs, 1000 loops each)\n"
     ]
    }
   ],
   "source": [
    "sz = 200\n",
    "npar = 1\n",
    "\n",
    "m = np.random.rand(sz, sz)\n",
    "msq = m @ m.T\n",
    "\n",
    "mat2 = np.random.rand(npar, sz, sz)\n",
    "msq2 = np.einsum('ijk, ilk -> ijl', mat2, mat2)\n",
    "\n",
    "v = np.random.rand(sz)\n",
    "v1 = np.random.rand(sz)\n",
    "v2 = np.random.rand(npar, sz)\n",
    "\n",
    "%timeit fisher(msq, v2, msq2)\n",
    "%timeit fisher_(msq, v2, msq2)"
   ]
  },
  {
   "cell_type": "code",
   "execution_count": 11,
   "metadata": {},
   "outputs": [
    {
     "name": "stdout",
     "output_type": "stream",
     "text": [
      "27.6 ms ± 2.51 ms per loop (mean ± std. dev. of 7 runs, 10 loops each)\n",
      "29.5 ms ± 3.98 ms per loop (mean ± std. dev. of 7 runs, 10 loops each)\n"
     ]
    }
   ],
   "source": [
    "sz = 600\n",
    "npar = 1\n",
    "\n",
    "m = np.random.rand(sz, sz)\n",
    "msq = m @ m.T\n",
    "\n",
    "mat2 = np.random.rand(npar, sz, sz)\n",
    "msq2 = np.einsum('ijk, ilk -> ijl', mat2, mat2)\n",
    "\n",
    "v = np.random.rand(sz)\n",
    "v1 = np.random.rand(sz)\n",
    "v2 = np.random.rand(npar, sz)\n",
    "\n",
    "%timeit fisher(msq, v2, msq2)\n",
    "%timeit fisher_(msq, v2, msq2)"
   ]
  },
  {
   "cell_type": "code",
   "execution_count": 12,
   "metadata": {},
   "outputs": [
    {
     "name": "stdout",
     "output_type": "stream",
     "text": [
      "60 µs ± 4.44 µs per loop (mean ± std. dev. of 7 runs, 10000 loops each)\n",
      "41.9 µs ± 3.39 µs per loop (mean ± std. dev. of 7 runs, 10000 loops each)\n"
     ]
    }
   ],
   "source": [
    "sz = 20\n",
    "npar = 1\n",
    "\n",
    "m = np.random.rand(sz, sz)\n",
    "msq = m @ m.T\n",
    "\n",
    "mat2 = np.random.rand(npar, sz, sz)\n",
    "msq2 = np.einsum('ijk, ilk -> ijl', mat2, mat2)\n",
    "\n",
    "v = np.random.rand(sz)\n",
    "v1 = np.random.rand(sz)\n",
    "v2 = np.random.rand(npar, sz)\n",
    "\n",
    "%timeit fisher(msq, v2, msq2)\n",
    "%timeit fisher_(msq, v2, msq2)"
   ]
  },
  {
   "cell_type": "code",
   "execution_count": null,
   "metadata": {},
   "outputs": [],
   "source": []
  }
 ],
 "metadata": {
  "kernelspec": {
   "display_name": "test",
   "language": "python",
   "name": "python3"
  },
  "language_info": {
   "codemirror_mode": {
    "name": "ipython",
    "version": 3
   },
   "file_extension": ".py",
   "mimetype": "text/x-python",
   "name": "python",
   "nbconvert_exporter": "python",
   "pygments_lexer": "ipython3",
   "version": "3.8.10"
  }
 },
 "nbformat": 4,
 "nbformat_minor": 2
}
