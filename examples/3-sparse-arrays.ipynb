{
 "cells": [
  {
   "cell_type": "code",
   "execution_count": 1,
   "metadata": {},
   "outputs": [],
   "source": [
    "import numpy as np\n",
    "import gprob as gp"
   ]
  },
  {
   "cell_type": "markdown",
   "metadata": {},
   "source": [
    "Regular random variables in gprob, those produced by `normal`, are always stored in a way suitable to represent the most general multivariate distributions, even when the actual distributions are trivial products. "
   ]
  },
  {
   "cell_type": "markdown",
   "metadata": {},
   "source": [
    "For stacks of mutually independent multivariate distributions, there is a dedicated representation called sparse normal variables. Such variables are created via the `iid` function, e.g. like"
   ]
  },
  {
   "cell_type": "code",
   "execution_count": 2,
   "metadata": {},
   "outputs": [
    {
     "data": {
      "text/plain": [
       "SparseNormal(mean=[0. 0. 0.], var=[1. 1. 1.], iaxes=(0,))"
      ]
     },
     "execution_count": 2,
     "metadata": {},
     "output_type": "execute_result"
    }
   ],
   "source": [
    "gp.iid(gp.normal(), 3)"
   ]
  },
  {
   "cell_type": "markdown",
   "metadata": {},
   "source": [
    "iaxes (\"independence axes\") here are the array axes along which the variables at different indices are independent."
   ]
  },
  {
   "cell_type": "markdown",
   "metadata": {},
   "source": [
    "To see the point, compare the memory footprints of identical product distributions stored as a regular (dense) and sparse arrays"
   ]
  },
  {
   "cell_type": "code",
   "execution_count": 3,
   "metadata": {},
   "outputs": [
    {
     "name": "stdout",
     "output_type": "stream",
     "text": [
      "Dense: 7.672 MB\n",
      "Sparse: 16.1 kB\n"
     ]
    }
   ],
   "source": [
    "import sys\n",
    "\n",
    "def getsizeofnormal(x):\n",
    "    \"\"\"Estimates the memory footprint of a normal variable in bytes.\"\"\"\n",
    "    x_ = x * np.ones(x.shape)  # Converts all views to new arrays.\n",
    "    return sys.getsizeof(x_.a) + sys.getsizeof(x_.b) + sys.getsizeof(x_.lat)\n",
    "\n",
    "sz = 1000\n",
    "\n",
    "x = gp.normal(size=sz)\n",
    "y = gp.iid(gp.normal(), sz)\n",
    "\n",
    "print(f\"Dense: {getsizeofnormal(x) / 2**20:.3f} MB\")\n",
    "print(f\"Sparse: {getsizeofnormal(y) / 2**10:0.3} kB\")"
   ]
  },
  {
   "cell_type": "markdown",
   "metadata": {},
   "source": [
    "Sparse varaibles can be used in gprob functions in the same way as the dense ones. There are limitations for them, however:\n",
    "\n",
    "* When sparse operations are combined together in arithmetic operations, stacking or concatentaion, all operands and the operation result must have identical independence axes. There is no way to create a dense random variable from a sparse one now. \n",
    "* When sparse varaibles are indexed, the independence axes must be taken as a whole using full slices, `:`, or ellipses, `...`.\n",
    "* Vector operations such as `@` or `einsum` cannot contract independence axes.\n",
    "* Reshaping cannot affect independence axes.\n",
    "\n",
    "There are other subtleties, but the above rules are the main ones to be aware of. Below they are illustrated for two variables, `x` and `y`, both of which have 10 by 10 shapes, and consist of sub-distributions independent along the 0th axis."
   ]
  },
  {
   "cell_type": "code",
   "execution_count": 4,
   "metadata": {},
   "outputs": [],
   "source": [
    "x = gp.iid(gp.normal(size=10), 10)\n",
    "y = gp.iid(gp.normal(size=10), 10)"
   ]
  },
  {
   "cell_type": "code",
   "execution_count": 5,
   "metadata": {},
   "outputs": [
    {
     "name": "stdout",
     "output_type": "stream",
     "text": [
      "Incompatible locations of the independence axes of the operands: (0,), (1,). Combining sparse normal variables requires them to have the same numbers of independence axes at the same positions in the shape and in the same order.\n"
     ]
    }
   ],
   "source": [
    "x + y  # This is permitted.\n",
    "\n",
    "try:\n",
    "    x + y.T  # But this is not, because the independence axes \n",
    "             # of x and y.T are different.\n",
    "except ValueError as e:\n",
    "    print(str(e))"
   ]
  },
  {
   "cell_type": "code",
   "execution_count": 6,
   "metadata": {},
   "outputs": [
    {
     "name": "stdout",
     "output_type": "stream",
     "text": [
      "Incompatible locations of the independence axes of the operands: (0,), (1,). Combining sparse normal variables requires them to have the same numbers of independence axes at the same positions in the shape and in the same order.\n",
      "Concatenation along independence axes is not allowed.\n"
     ]
    }
   ],
   "source": [
    "# These operations are permitted.\n",
    "gp.stack([x, y])\n",
    "gp.concatenate([x, y], axis=1)\n",
    "\n",
    "# But these are not.\n",
    "try:\n",
    "    gp.stack([x, y.T])\n",
    "except ValueError as e:\n",
    "    print(str(e))\n",
    "\n",
    "try:\n",
    "    gp.concatenate([x, y], axis=0)\n",
    "except ValueError as e:\n",
    "    print(str(e))"
   ]
  },
  {
   "cell_type": "code",
   "execution_count": 7,
   "metadata": {},
   "outputs": [
    {
     "name": "stdout",
     "output_type": "stream",
     "text": [
      "Matrix multiplication contracting over independence axes is not supported. Axis 0 of operand 2 is contracted.\n"
     ]
    }
   ],
   "source": [
    "c = np.ones((10, 10))\n",
    "\n",
    "x @ c  # This is permitted, because the matrix multiplication \n",
    "       # contracts a regular axis.\n",
    "\n",
    "try:\n",
    "    c @ x  # But this is not, because the matrix multiplication would contract \n",
    "           # the independence axis.\n",
    "except ValueError as e:\n",
    "    print(str(e))"
   ]
  },
  {
   "cell_type": "code",
   "execution_count": 8,
   "metadata": {},
   "outputs": [
    {
     "name": "stdout",
     "output_type": "stream",
     "text": [
      "Reshaping that affects independence axes is not supported. Axis 0 is affected by the requested shape transformation (10, 10) -> (2, 5, 10).\n",
      "Reshaping that affects independence axes is not supported. Axis 0 is affected by the requested shape transformation (10, 10) -> (100,).\n"
     ]
    }
   ],
   "source": [
    "x.reshape((10, 2, 5))  # Reshaping is permitted for dense axes.\n",
    "\n",
    "try:\n",
    "    x.reshape((2, 5, 10))  # But not for sparse axes.\n",
    "except ValueError as e:\n",
    "    print(str(e))\n",
    "\n",
    "try:\n",
    "    x.reshape((100,))  # And neither for their mixtures.\n",
    "except ValueError as e:\n",
    "    print(str(e))"
   ]
  },
  {
   "cell_type": "markdown",
   "metadata": {},
   "source": [
    "Another distinction between the regular and sparse variables is the shape of their covaraince. When calculating covariances between sparse variables, only diagonals are returned between the independence axes, as all the elements at non-diagonal indices for those axes are zero. Compare, for example, the covariance between the sparse variables below"
   ]
  },
  {
   "cell_type": "code",
   "execution_count": 9,
   "metadata": {},
   "outputs": [
    {
     "data": {
      "text/plain": [
       "array([1., 2., 3., 4.])"
      ]
     },
     "execution_count": 9,
     "metadata": {},
     "output_type": "execute_result"
    }
   ],
   "source": [
    "x = gp.iid(gp.normal(), 4)\n",
    "y = gp.iid(gp.normal(), 4) + np.array([1, 2, 3, 4]) * x\n",
    "\n",
    "gp.cov(x, y)"
   ]
  },
  {
   "cell_type": "markdown",
   "metadata": {},
   "source": [
    "with the covariance between two regular variables with the same correlation properties"
   ]
  },
  {
   "cell_type": "code",
   "execution_count": 10,
   "metadata": {},
   "outputs": [
    {
     "data": {
      "text/plain": [
       "array([[1., 0., 0., 0.],\n",
       "       [0., 2., 0., 0.],\n",
       "       [0., 0., 3., 0.],\n",
       "       [0., 0., 0., 4.]])"
      ]
     },
     "execution_count": 10,
     "metadata": {},
     "output_type": "execute_result"
    }
   ],
   "source": [
    "x = gp.normal(size=4)\n",
    "y = gp.normal(size=4) + np.array([1, 2, 3, 4]) * x\n",
    "\n",
    "gp.cov(x, y)"
   ]
  }
 ],
 "metadata": {
  "kernelspec": {
   "display_name": "Python 3",
   "language": "python",
   "name": "python3"
  },
  "language_info": {
   "codemirror_mode": {
    "name": "ipython",
    "version": 3
   },
   "file_extension": ".py",
   "mimetype": "text/x-python",
   "name": "python",
   "nbconvert_exporter": "python",
   "pygments_lexer": "ipython3",
   "version": "3.12.2"
  }
 },
 "nbformat": 4,
 "nbformat_minor": 2
}
